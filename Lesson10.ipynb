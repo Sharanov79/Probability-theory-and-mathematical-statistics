{
 "cells": [
  {
   "attachments": {},
   "cell_type": "markdown",
   "metadata": {},
   "source": [
    "**1. Провести дисперсионный анализ для определения того, есть ли различия среднего роста среди взрослых футболистов, хоккеистов и штангистов. \n",
    "Даны значения роста в трех группах случайно выбранных спортсменов:\n",
    "Футболисты: 173, 175, 180, 178, 177, 185, 183, 182.\n",
    "Хоккеисты: 177, 179, 180, 188, 177, 172, 171, 184, 180.\n",
    "Штангисты: 172, 173, 169, 177, 166, 180, 178, 177, 172, 166, 170.**"
   ]
  },
  {
   "cell_type": "code",
   "execution_count": null,
   "metadata": {},
   "outputs": [],
   "source": [
    "import numpy as np\n",
    "import pandas as pd\n",
    "from scipy import stats\n",
    "\n",
    "Footballers=np.array([173, 175, 180, 178, 177, 185, 183, 182,])\n",
    "Hockey_players=np.array([177, 179, 180, 188, 177, 172, 171, 184, 180])\n",
    "Weightlifters=np.array([172, 173, 169, 177, 166, 180, 178, 177, 172, 166, 170])"
   ]
  },
  {
   "attachments": {},
   "cell_type": "markdown",
   "metadata": {},
   "source": [
    "Сформулируем нулевую гипотезу:\n",
    "Различий среднего роста среди взрослых спотрсменов не имеется.\n",
    "H0:u1=u2=u3\n",
    "\n",
    "Альтернативная гипотеза:\n",
    "Имеются различия среднего роста среди взрослых спотрсменов.\n",
    "H0:u1<>u2<>u3"
   ]
  },
  {
   "cell_type": "code",
   "execution_count": null,
   "metadata": {},
   "outputs": [],
   "source": [
    "k=3\n",
    "n=28"
   ]
  },
  {
   "cell_type": "code",
   "execution_count": null,
   "metadata": {},
   "outputs": [],
   "source": [
    "Footballers_mean=np.mean(Footballers)\n",
    "print('Средний рост футболиста=%.5f' % (Footballers_mean))"
   ]
  },
  {
   "attachments": {},
   "cell_type": "markdown",
   "metadata": {},
   "source": [
    "Средний рост футболиста=179.12500"
   ]
  },
  {
   "cell_type": "code",
   "execution_count": null,
   "metadata": {},
   "outputs": [],
   "source": [
    "Hockey_players_mean=np.mean(Hockey_players)\n",
    "print('Средний рост хоккеиста=%.5f' % (Hockey_players_mean))"
   ]
  },
  {
   "attachments": {},
   "cell_type": "markdown",
   "metadata": {},
   "source": [
    "Средний рост хоккеиста=178.66667"
   ]
  },
  {
   "cell_type": "code",
   "execution_count": null,
   "metadata": {},
   "outputs": [],
   "source": [
    "Weightlifters_mean=np.mean(Weightlifters)\n",
    "print('Средний рост штангиста=%.5f' % (Weightlifters_mean))"
   ]
  },
  {
   "attachments": {},
   "cell_type": "markdown",
   "metadata": {},
   "source": [
    "Средний рост штангиста=172.72727"
   ]
  },
  {
   "cell_type": "code",
   "execution_count": null,
   "metadata": {},
   "outputs": [],
   "source": [
    "S_f=np.sum((Footballers_mean-149.727)**2)*8+np.sum((Hockey_players_mean-149.727)**2)*9+np.sum((Weightlifters_mean-149.727)**2)*11\n",
    "print('Сумма квадратов отклонений средних групповых значений от общего среднего=%.5f' % (S_f))"
   ]
  },
  {
   "attachments": {},
   "cell_type": "markdown",
   "metadata": {},
   "source": [
    "Сумма квадратов отклонений средних групповых значений от общего среднего=20270.61599"
   ]
  },
  {
   "cell_type": "code",
   "execution_count": null,
   "metadata": {},
   "outputs": [],
   "source": [
    "S_ost=np.sum((Footballers-Footballers_mean)**2)+np.sum((Hockey_players-Hockey_players_mean)**2)+np.sum((Weightlifters-Weightlifters_mean)**2)\n",
    "print('Остаточная сумма квадратов отклонений=%.5f' % (S_ost))"
   ]
  },
  {
   "attachments": {},
   "cell_type": "markdown",
   "metadata": {},
   "source": [
    "Остаточная сумма квадратов отклонений=577.05682"
   ]
  },
  {
   "cell_type": "code",
   "execution_count": null,
   "metadata": {},
   "outputs": [],
   "source": [
    "S_f+S_ost"
   ]
  },
  {
   "attachments": {},
   "cell_type": "markdown",
   "metadata": {},
   "source": [
    "20847.672811999986"
   ]
  },
  {
   "cell_type": "code",
   "execution_count": null,
   "metadata": {},
   "outputs": [],
   "source": [
    "D_f=S_f/(k-1)\n",
    "print('Факторная дисперсия=%.5f' % (D_f))"
   ]
  },
  {
   "attachments": {},
   "cell_type": "markdown",
   "metadata": {},
   "source": [
    "Факторная дисперсия=10135.30800"
   ]
  },
  {
   "cell_type": "code",
   "execution_count": null,
   "metadata": {},
   "outputs": [],
   "source": [
    "D_ost=S_ost/(n-k)\n",
    "print('Остаточная дисперсия=%.5f' % (D_ost))"
   ]
  },
  {
   "attachments": {},
   "cell_type": "markdown",
   "metadata": {},
   "source": [
    "Остаточная дисперсия=23.08227"
   ]
  },
  {
   "cell_type": "code",
   "execution_count": null,
   "metadata": {},
   "outputs": [],
   "source": [
    "F_n=D_f/D_ost\n",
    "print('Наблюдаемый критерий Фишера=%.5f' % (F_n))"
   ]
  },
  {
   "attachments": {},
   "cell_type": "markdown",
   "metadata": {},
   "source": [
    "Наблюдаемый критерий Фишера=439.09489"
   ]
  },
  {
   "cell_type": "code",
   "execution_count": null,
   "metadata": {},
   "outputs": [],
   "source": [
    "#Однофакторный дисперсионный анализ\n",
    "f=stats.f_oneway(Footballers, Hockey_players, Weightlifters)\n",
    "\n",
    "stat, p = stats.f_oneway(Footballers, Hockey_players, Weightlifters)\n",
    "print('Statistics=%.5f, p-value=%.5f' % (stat, p))\n",
    "\n",
    "alpha = 0.05\n",
    "if p > alpha:\n",
    "    print('Различий среднего роста среди взрослых спотрсменов не имеется')\n",
    "else:\n",
    "    print('Имеются различия среднего роста среди взрослых спотрсменов')"
   ]
  },
  {
   "attachments": {},
   "cell_type": "markdown",
   "metadata": {},
   "source": [
    "Statistics=5.50005, p-value=0.01048\n",
    "Имеются различия среднего роста среди взрослых спотрсменов"
   ]
  },
  {
   "cell_type": "code",
   "execution_count": null,
   "metadata": {},
   "outputs": [],
   "source": [
    "print('Statistics=%.5f, p-value=%.5f' % (stat, p))\n",
    "\n",
    "alpha = 0.01\n",
    "if p > alpha:\n",
    "    print('Различий среднего роста среди взрослых спотрсменов не имеется')\n",
    "else:\n",
    "    print('Имеются различия среднего роста среди взрослых спотрсменов')"
   ]
  },
  {
   "attachments": {},
   "cell_type": "markdown",
   "metadata": {},
   "source": [
    "Statistics=5.50005, p-value=0.01048\n",
    "Различий среднего роста среди взрослых спотрсменов не имеется"
   ]
  },
  {
   "attachments": {},
   "cell_type": "markdown",
   "metadata": {},
   "source": [
    "На уровне статистической значимости a=0.05 p-value=0.01048 => отвергаем нулевую гипотезу. \n",
    "Т.е. Имеются различия среднего роста среди взрослых спотрсменов.\n",
    "При этом на уровне значимости a=0.01 нулевую гипотезу отвергнуть нельзя."
   ]
  }
 ],
 "metadata": {
  "language_info": {
   "name": "python"
  },
  "orig_nbformat": 4
 },
 "nbformat": 4,
 "nbformat_minor": 2
}
