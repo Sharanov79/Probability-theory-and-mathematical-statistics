{
 "cells": [
  {
   "cell_type": "markdown",
   "id": "attractive-turkish",
   "metadata": {},
   "source": [
    "## <center>Практическое задание к лекции 7."
   ]
  },
  {
   "attachments": {},
   "cell_type": "markdown",
   "id": "unique-unemployment",
   "metadata": {},
   "source": [
    "**1. Даны две независимые выборки. Не соблюдается условие нормальности\n",
    "  x1 380,420, 290\n",
    "  y1 140,360,200,900\n",
    "  Сделайте вывод по результатам, полученным с помощью функции**"
   ]
  },
  {
   "cell_type": "code",
   "execution_count": 2,
   "id": "economic-penguin",
   "metadata": {},
   "outputs": [],
   "source": [
    "import scipy.stats as stats\n",
    "import numpy as np\n",
    "import pylab"
   ]
  },
  {
   "cell_type": "code",
   "execution_count": 3,
   "id": "undefined-blackjack",
   "metadata": {},
   "outputs": [],
   "source": [
    "x1 = np.array ([380, 420, 290])\n",
    "y1 = np.array ([140,360,200,900])\n",
    "\n",
    "stat, p = stats.mannwhitneyu(x1, y1)\n",
    "\n",
    "print('Statistics=%.3f, p-value=%.3f' % (stat, p))\n",
    "\n",
    "alpha = 0.05\n",
    "if p > alpha:\n",
    "    print('имеются статистически значимые различия между выборками')\n",
    "else:\n",
    "    print('статистически значимых различий между выборками не имеется')"
   ]
  },
  {
   "attachments": {},
   "cell_type": "markdown",
   "id": "9cf8737c",
   "metadata": {},
   "source": [
    "*Statistics=8.000, p-value=0.629\n",
    "имеются статистически значимые различия между выборками*"
   ]
  },
  {
   "attachments": {},
   "cell_type": "markdown",
   "id": "posted-setup",
   "metadata": {},
   "source": [
    "**2. Исследовалось влияние препарата на уровень давления пациентов. Сначала измерялось давление до приема препарата, потом через 10 минут и через 30 минут. \n",
    " Есть ли статистически значимые различия?\n",
    " 1е измерение до приема препарата: 150, 160, 165, 145, 155\n",
    " 2е измерение через 10 минут: 140, 155, 150, 130, 135\n",
    " 3е измерение через 30 минут: 130, 130, 120, 130, 125**"
   ]
  },
  {
   "cell_type": "code",
   "execution_count": 90,
   "id": "japanese-destruction",
   "metadata": {},
   "outputs": [],
   "source": [
    "gr1=np.array ([150, 160, 165, 145, 155])\n",
    "gr2=np.array ([140, 155, 150, 130, 135])\n",
    "gr3=np.array ([130, 130, 120, 130, 125])\n",
    "\n",
    "stat, p = stats.friedmanchisquare(gr1, gr2, gr3)\n",
    "\n",
    "print('Statistics=%.3f, p-value=%.3f' % (stat, p))\n",
    "\n",
    "alpha = 0.05\n",
    "if p > alpha:\n",
    "    print('имеется влияние препарата на уровень давления пациентов')\n",
    "else:\n",
    "    print('влияния препарата на уровень давления пациентов не имеется')"
   ]
  },
  {
   "attachments": {},
   "cell_type": "markdown",
   "id": "greek-strap",
   "metadata": {},
   "source": [
    "*Statistics=9.579, p-value=0.008\n",
    "влияния препарата на уровень давления пациентов не имеется*"
   ]
  },
  {
   "attachments": {},
   "cell_type": "markdown",
   "id": "seeing-landscape",
   "metadata": {},
   "source": [
    "**3. Сравните 1 и 2 е измерения, предполагая, что 3го измерения через 30 минут не было.\n",
    " 1е измерение до приема препарата: 150, 160, 165, 145, 155\n",
    " 2е измерение через 10 минут: 140, 155, 150, 130, 135.**"
   ]
  },
  {
   "cell_type": "code",
   "execution_count": null,
   "id": "67f35b63",
   "metadata": {},
   "outputs": [],
   "source": [
    "gr1=np.array ([150, 160, 165, 145, 155])\n",
    "gr2=np.array ([140, 155, 150, 130, 135])\n",
    "\n",
    "stat, p = stats.wilcoxon(gr1, gr2)\n",
    "print('Statistics=%.3f, p-value=%.3f' % (stat, p))\n",
    "\n",
    "alpha = 0.05\n",
    "if p > alpha:\n",
    "    print('имеется влияние препарата на уровень давления пациентов')\n",
    "else:\n",
    "    print('влияния препарата на уровень давления пациентов не имеется')"
   ]
  },
  {
   "attachments": {},
   "cell_type": "markdown",
   "id": "passing-quebec",
   "metadata": {},
   "source": [
    "*Statistics=0.000, p-value=0.062\n",
    "имеется влияние препарата на уровень давления пациентов* "
   ]
  },
  {
   "attachments": {},
   "cell_type": "markdown",
   "id": "321300b9",
   "metadata": {},
   "source": [
    "**4. Даны 3 группы учеников плавания.\n",
    " В 1 группе время на дистанцию 50 м составляют: 56, 60, 62, 55, 71, 67, 59, 58, 64, 67\n",
    " Вторая группа : 57, 58, 69, 48, 72, 70, 68, 71, 50, 53\n",
    " Третья группа: 57, 67, 49, 48, 47, 55, 66, 51, 54**"
   ]
  },
  {
   "cell_type": "code",
   "execution_count": null,
   "id": "46b1ac16",
   "metadata": {},
   "outputs": [],
   "source": [
    "gr1=np.array ([56, 60, 62, 55, 71, 67, 59, 58, 64, 67])\n",
    "gr2=np.array ([57, 58, 69, 48, 72, 70, 68, 71, 50, 53])\n",
    "gr3=np.array ([57, 67, 49, 48, 47, 55, 66, 51, 54])\n",
    "\n",
    "stat, p = stats.kruskal(gr1, gr2, gr3)\n",
    "\n",
    "print('Statistics=%.3f, p-value=%.3f' % (stat, p))\n",
    "\n",
    "alpha = 0.05\n",
    "if p > alpha:\n",
    "    print('имеется влияние препарата на уровень давления пациентов')\n",
    "else:\n",
    "    print('влияния препарата на уровень давления пациентов не имеется')\n"
   ]
  },
  {
   "attachments": {},
   "cell_type": "markdown",
   "id": "2fd26a4d",
   "metadata": {},
   "source": [
    "*Statistics=5.466, p-value=0.065\n",
    "имеется влияние препарата на уровень давления пациентов*"
   ]
  }
 ],
 "metadata": {
  "kernelspec": {
   "display_name": "Python 3",
   "language": "python",
   "name": "python3"
  },
  "language_info": {
   "codemirror_mode": {
    "name": "ipython",
    "version": 3
   },
   "file_extension": ".py",
   "mimetype": "text/x-python",
   "name": "python",
   "nbconvert_exporter": "python",
   "pygments_lexer": "ipython3",
   "version": "3.10.9"
  },
  "vscode": {
   "interpreter": {
    "hash": "150c0e5037f7056ce2ceb4c7b8ecdc996cd32e21aba9509b33d7f149761d44e0"
   }
  }
 },
 "nbformat": 4,
 "nbformat_minor": 5
}
